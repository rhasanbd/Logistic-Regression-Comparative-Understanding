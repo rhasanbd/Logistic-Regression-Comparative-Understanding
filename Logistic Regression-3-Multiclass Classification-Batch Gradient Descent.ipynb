{
 "cells": [
  {
   "cell_type": "markdown",
   "metadata": {},
   "source": [
    "# Logistic Regression - Multiclass Classification - Batch Gradient Descent\n",
    "\n",
    "\n",
    "In this notebook, we use Scikit-Learn's **Batch Gradient Descent** algorithm for Logistic Regression to perform multi-class classification.\n",
    "\n",
    "There are two strategies for multi-class classification:\n",
    "- One-vesus-all (OvA)\n",
    "- Multinomial (Softmax)\n",
    "\n",
    "\n",
    "By default Scikit-Learn’s LogisticRegression uses <strong>one-versus-all</strong> when we train it on more than two classes.\n",
    "\n",
    "However, we can set the multi_class hyperparameter to \"multinomial\" to switch it to **Softmax Regression**. \n",
    "\n",
    "We will investigate both strategies.\n",
    "\n",
    "\n",
    "### Solver\n",
    "- For a brief introduction to various solvers and how they influence the performance of a model, see the notebook **Logistic Regression-5-Gradient Descent Optimization Techniques**.\n",
    "https://github.com/rhasanbd/Logistic-Regression-Comparative-Understanding/blob/master/Logistic%20Regression-6-Gradient%20Descent%20Optimization%20Techniques.ipynb\n",
    "\n",
    "\n",
    "### Regularization\n",
    "We will use regularization (l2 regularization) in our implementation of Logistic Regression. The strength of the regularization is controlled by the hyperparameter C.\n",
    "\n",
    "### Note on Setting Hyperparameter C\n",
    "\n",
    "The hyperparameter controlling the regularization strength of a Scikit-Learn LogisticRegression model is not alpha (as in other linear models), but its inverse C. \n",
    "\n",
    "    The higher the value of C, the less the model is regularized.\n",
    "\n",
    "More on Scikit-Learn's Logistic Regression:\n",
    "https://scikit-learn.org/stable/modules/generated/sklearn.linear_model.LogisticRegression.html\n"
   ]
  },
  {
   "cell_type": "markdown",
   "metadata": {},
   "source": [
    "# Dataset\n",
    "\n",
    "\n",
    "We will use the iris dataset, which is a multivariate data set. \n",
    "\n",
    "This is a famous dataset that contains the sepal and petal length and width of 150 iris flowers of three different species: Iris-Setosa, Iris-Versicolor, and Iris-Virginica\n",
    "\n",
    "There are 4 features: \n",
    "- sepal length (cm)\n",
    "- sepal width (cm)\n",
    "- petal length (cm)\n",
    "- petal width (cm)\n",
    "\n",
    "Total number of samples: 150\n",
    "\n",
    "The dataset is also known as Fisher's Iris data set as it was introduced by the British statistician and biologist Ronald Fisher in his 1936 paper \"The use of multiple measurements in taxonomic problems as an example of linear discriminant analysis\".\n",
    "\n",
    "\n",
    "<img src=\"https://cse.unl.edu/~hasan/IrisFlowers.png\" width=800, height=400>"
   ]
  },
  {
   "cell_type": "code",
   "execution_count": 1,
   "metadata": {},
   "outputs": [],
   "source": [
    "import numpy as np\n",
    "import matplotlib.pyplot as plt\n",
    "\n",
    "from sklearn.datasets import load_iris\n",
    "from sklearn.preprocessing import StandardScaler\n",
    "from sklearn.linear_model import LogisticRegression\n",
    "from sklearn.metrics import confusion_matrix, precision_score, recall_score, f1_score, classification_report\n",
    "from sklearn.model_selection import train_test_split, GridSearchCV, cross_val_score"
   ]
  },
  {
   "cell_type": "markdown",
   "metadata": {},
   "source": [
    "## Explore The Dataset"
   ]
  },
  {
   "cell_type": "code",
   "execution_count": 2,
   "metadata": {},
   "outputs": [
    {
     "name": "stdout",
     "output_type": "stream",
     "text": [
      "\n",
      "Key Values: \n",
      " ['data', 'target', 'target_names', 'DESCR', 'feature_names', 'filename']\n",
      "\n",
      "Feature Names: \n",
      " ['sepal length (cm)', 'sepal width (cm)', 'petal length (cm)', 'petal width (cm)']\n",
      "\n",
      "Target Names: \n",
      " ['setosa', 'versicolor', 'virginica']\n"
     ]
    }
   ],
   "source": [
    "iris = load_iris()\n",
    "\n",
    "# See the key values\n",
    "print(\"\\nKey Values: \\n\", list(iris.keys()))\n",
    "\n",
    "# The feature names\n",
    "print(\"\\nFeature Names: \\n\", list(iris.feature_names))\n",
    "\n",
    "# The target names\n",
    "print(\"\\nTarget Names: \\n\", list(iris.target_names))\n",
    "\n",
    "# The target values (codes)\n",
    "#print(\"\\nTarget Values: \\n\", list(iris.target))"
   ]
  },
  {
   "cell_type": "markdown",
   "metadata": {},
   "source": [
    "## Create Data Matrix (X) and the Label Array (y)\n",
    "\n",
    "We can use all features or a subset. For this notebook, we will use two features (i.e., petal length, petal width)."
   ]
  },
  {
   "cell_type": "code",
   "execution_count": 3,
   "metadata": {},
   "outputs": [
    {
     "name": "stdout",
     "output_type": "stream",
     "text": [
      "(150, 2)\n",
      "(150,)\n",
      "\n",
      "X data type:  float64\n",
      "y data type:  int64\n"
     ]
    }
   ],
   "source": [
    "# For the experimentation we use two features\n",
    "X = iris[\"data\"][:, (2, 3)]  # petal length, petal width\n",
    "\n",
    "# Target Array\n",
    "y = iris[\"target\"]\n",
    "\n",
    "print(X.shape)\n",
    "print(y.shape)\n",
    "\n",
    "print(\"\\nX data type: \", X.dtype)\n",
    "print(\"y data type: \", y.dtype)"
   ]
  },
  {
   "cell_type": "markdown",
   "metadata": {},
   "source": [
    "## Split Data Into Training and Test Sets"
   ]
  },
  {
   "cell_type": "code",
   "execution_count": 4,
   "metadata": {},
   "outputs": [],
   "source": [
    "X_train, X_test, y_train, y_test = train_test_split(X, y, test_size=0.20, random_state=2)"
   ]
  },
  {
   "cell_type": "markdown",
   "metadata": {},
   "source": [
    "## Standardize the Data"
   ]
  },
  {
   "cell_type": "code",
   "execution_count": 5,
   "metadata": {},
   "outputs": [],
   "source": [
    "scaler = StandardScaler()\n",
    "\n",
    "# Fit on training set only.\n",
    "scaler.fit(X_train)\n",
    "\n",
    "# Apply transform to both the training set and the test set.\n",
    "X_train = scaler.transform(X_train)\n",
    "X_test = scaler.transform(X_test)"
   ]
  },
  {
   "cell_type": "markdown",
   "metadata": {},
   "source": [
    "## Scikit-Learn LogisticRegression Attributes Settting\n",
    "\n",
    "We need to set the following attributes to train a Logistic Regression binary classifier.\n",
    "\n",
    "- penalty : ‘l1’, ‘l2’, ‘elasticnet’, ‘none’ (default=’l2’) The ‘newton-cg’, ‘sag’ and ‘lbfgs’ solvers support only l2 penalties. ‘elasticnet’ is only supported by the ‘saga’ solver. If ‘none’ (not supported by the liblinear solver), no regularization is applied.\n",
    "\n",
    "\n",
    "        If penalty is set to ‘elasticnet’, then we need to set the hyperparameter 'l1_ratio'\n",
    "        \n",
    "        \n",
    "- l1_ratio : float, default=None. The Elastic-Net mixing parameter, with 0 <= l1_ratio <= 1. Only used if penalty='elasticnet'. Setting l1_ratio=0 is equivalent to using penalty='l2', while setting l1_ratio=1 is equivalent to using penalty='l1'. For 0 < l1_ratio <1, the penalty is a combination of L1 and L2.\n",
    "\n",
    "\n",
    "- tol : Tolerance for stopping criteria. Default 1e-4.\n",
    "\n",
    "\n",
    "- C : Inverse of regularization strength; must be a positive float. Like in support vector machines, smaller values specify stronger regularization. Default 1.0\n",
    "\n",
    "\n",
    "- solver : ‘newton-cg’, ‘lbfgs’, ‘liblinear’, ‘sag’, ‘saga’}, default: ‘liblinear’. Algorithm to use in the optimization problem.\n",
    "\n",
    "        -- For small datasets, ‘liblinear’ is a good choice, whereas ‘sag’ and ‘saga’ are faster for large ones.\n",
    "\n",
    "        -- For multiclass problems, only ‘newton-cg’, ‘sag’, ‘saga’ and ‘lbfgs’ handle multinomial loss; ‘liblinear’ is limited to one-versus-rest schemes.\n",
    "\n",
    "        -- ‘newton-cg’, ‘lbfgs’ and ‘sag’ only handle L2 penalty, whereas ‘liblinear’ and ‘saga’ handle L1 penalty.\n",
    "\n",
    "\n",
    "- max_iter : Useful only for the newton-cg, sag and lbfgs solvers. Maximum number of iterations taken for the solvers to converge. Default 100\n",
    "\n",
    "\n",
    "- multi_class : ‘ovr’, ‘multinomial’, ‘auto’. default: ‘ovr’. \n",
    "    -- If the option chosen is ‘ovr’, then a binary problem is fit for each label. For ‘multinomial’ the loss minimised is the multinomial loss fit across the entire probability distribution, even when the data is binary. ‘multinomial’ is unavailable when solver=’liblinear’. ‘auto’ selects ‘ovr’ if the data is binary, or if solver=’liblinear’, and otherwise selects ‘multinomial’."
   ]
  },
  {
   "cell_type": "markdown",
   "metadata": {},
   "source": [
    "## Investigation of the Multi-Class Classification Techniques\n",
    "\n",
    "Below we investigate two strategies for multi-class classification:\n",
    "- One-vesus-all (OvA)\n",
    "- Multinomial (Softmax)"
   ]
  },
  {
   "cell_type": "markdown",
   "metadata": {},
   "source": [
    "# One-versus-All (OvA) Multi-class Classification\n",
    "\n",
    "The OvA strategy trains multiple binary classifiers.\n",
    "\n",
    "For the the 3 classes of the Iris dataset, OvA will trail 3 binary classifiers.\n",
    "\n",
    "    We will see that the $n\\_iter\\_$ attribute of the LogisticRegression object will return an array of 3 iteration counts.\n",
    "\n",
    "## Model Selection for OvA: Hyperparameter Tuning\n",
    "\n",
    "First, we need to find the optimal hyperparameters via Gridsearch.\n",
    "\n",
    "- Solver: Note that we select the best solver for the batch Gradient Descent from 'liblinear', ‘newton-cg’, and ‘lbfgs’. The other two solvers ‘sag’ and ‘saga’ implement a variant of SGD. For this illustration we exclude the SGD solvers. "
   ]
  },
  {
   "cell_type": "code",
   "execution_count": 6,
   "metadata": {},
   "outputs": [
    {
     "name": "stdout",
     "output_type": "stream",
     "text": [
      "Fitting 3 folds for each of 84 candidates, totalling 252 fits\n"
     ]
    },
    {
     "name": "stderr",
     "output_type": "stream",
     "text": [
      "[Parallel(n_jobs=-1)]: Using backend LokyBackend with 8 concurrent workers.\n",
      "[Parallel(n_jobs=-1)]: Done  34 tasks      | elapsed:    1.6s\n"
     ]
    },
    {
     "name": "stdout",
     "output_type": "stream",
     "text": [
      "Best Score (F1 score): 0.958333\n",
      "Optimal Hyperparameter Values:  {'C': 10, 'max_iter': 500, 'multi_class': 'ovr', 'solver': 'newton-cg', 'tol': 0.001}\n",
      "\n",
      "\n",
      "CPU times: user 359 ms, sys: 90.5 ms, total: 449 ms\n",
      "Wall time: 2.11 s\n"
     ]
    },
    {
     "name": "stderr",
     "output_type": "stream",
     "text": [
      "[Parallel(n_jobs=-1)]: Done 237 out of 252 | elapsed:    2.1s remaining:    0.1s\n",
      "[Parallel(n_jobs=-1)]: Done 252 out of 252 | elapsed:    2.1s finished\n"
     ]
    }
   ],
   "source": [
    "%%time\n",
    "param_grid = {'solver': ['liblinear', 'newton-cg', 'lbfgs'], \n",
    "              'multi_class' : ['ovr'],\n",
    "              'tol': [1e-3, 1e-4], 'max_iter':[500, 1000],'C': [0.1, 0.5, 1, 10, 15, 50, 100]}\n",
    "\n",
    "lg_reg = LogisticRegression()\n",
    "\n",
    "lg_reg_cv = GridSearchCV(lg_reg, param_grid, scoring='f1_micro', cv=3, verbose=1, n_jobs=-1)\n",
    "lg_reg_cv.fit(X_train, y_train)\n",
    "\n",
    "params_optimal = lg_reg_cv.best_params_\n",
    "\n",
    "print(\"Best Score (F1 score): %f\" % lg_reg_cv.best_score_)\n",
    "print(\"Optimal Hyperparameter Values: \", params_optimal)\n",
    "print(\"\\n\")"
   ]
  },
  {
   "cell_type": "markdown",
   "metadata": {},
   "source": [
    "## Train the Optimal Logistic Regression Classifier"
   ]
  },
  {
   "cell_type": "code",
   "execution_count": 7,
   "metadata": {},
   "outputs": [
    {
     "data": {
      "text/plain": [
       "LogisticRegression(C=10, class_weight=None, dual=False, fit_intercept=True,\n",
       "                   intercept_scaling=1, l1_ratio=None, max_iter=500,\n",
       "                   multi_class='ovr', n_jobs=None, penalty='l2',\n",
       "                   random_state=None, solver='newton-cg', tol=0.001, verbose=0,\n",
       "                   warm_start=False)"
      ]
     },
     "execution_count": 7,
     "metadata": {},
     "output_type": "execute_result"
    }
   ],
   "source": [
    "lg_reg_clf = LogisticRegression(**params_optimal)\n",
    "\n",
    "lg_reg_clf.fit(X_train, y_train)"
   ]
  },
  {
   "cell_type": "markdown",
   "metadata": {},
   "source": [
    "## Evaluate the Optimal Classifier on Test Data"
   ]
  },
  {
   "cell_type": "code",
   "execution_count": 8,
   "metadata": {},
   "outputs": [
    {
     "name": "stdout",
     "output_type": "stream",
     "text": [
      "No. of Iterations: [8 6 9]\n",
      "\n",
      "Test Accuracy:  0.9666666666666667\n",
      "\n",
      "Test Confusion Matrix:\n",
      "[[14  0  0]\n",
      " [ 0  7  1]\n",
      " [ 0  0  8]]\n",
      "\n",
      "Classification Report:\n",
      "              precision    recall  f1-score   support\n",
      "\n",
      "           0       1.00      1.00      1.00        14\n",
      "           1       1.00      0.88      0.93         8\n",
      "           2       0.89      1.00      0.94         8\n",
      "\n",
      "    accuracy                           0.97        30\n",
      "   macro avg       0.96      0.96      0.96        30\n",
      "weighted avg       0.97      0.97      0.97        30\n",
      "\n"
     ]
    }
   ],
   "source": [
    "print(\"No. of Iterations:\",lg_reg_clf.n_iter_ )\n",
    "\n",
    "y_test_predicted = lg_reg_clf.predict(X_test)\n",
    "#print(y_test_predict)\n",
    "\n",
    "accuracy_score_test = np.mean(y_test_predicted == y_test)\n",
    "print(\"\\nTest Accuracy: \", accuracy_score_test)\n",
    "\n",
    "\n",
    "print(\"\\nTest Confusion Matrix:\")\n",
    "print(confusion_matrix(y_test, y_test_predicted))\n",
    "\n",
    "\n",
    "print(\"\\nClassification Report:\")\n",
    "print(classification_report(y_test, y_test_predicted))"
   ]
  },
  {
   "cell_type": "markdown",
   "metadata": {},
   "source": [
    "## Observation: OvA\n",
    "\n",
    "We observe that the $n\\_iter\\_$ attribute of the LogisticRegression object returns an array of 3 iteration counts. This illustrates an **important difference of the OvA with the Softmax regression**.\n",
    "\n",
    "In the OvA strategy we train multiply binary classifiers. In this 3 class classification problem, the LogisticRegression object has trained 3 models.\n",
    "\n",
    "However, in the Softmax regression we train a single model for identifying multiple classes. \n",
    "\n",
    "    That's why we prefer to use Softmax regression for multi-class classification.\n"
   ]
  },
  {
   "cell_type": "markdown",
   "metadata": {},
   "source": [
    "## Model Selection for Softmax Regression: Hyperparameter Tuning\n",
    "\n",
    "First, we need to find the optimal hyperparameters via Gridsearch.\n",
    "\n",
    "- Solver: Note that we select the best solver for the batch Gradient Descent from ‘newton-cg’, and ‘lbfgs’. We exclude 'liblinear' because it only implements the OvA approach. The other two solvers ‘sag’ and ‘saga’ implement a variant of SGD. For this illustration we exclude the SGD solvers. "
   ]
  },
  {
   "cell_type": "code",
   "execution_count": 9,
   "metadata": {},
   "outputs": [
    {
     "name": "stderr",
     "output_type": "stream",
     "text": [
      "[Parallel(n_jobs=-1)]: Using backend LokyBackend with 8 concurrent workers.\n"
     ]
    },
    {
     "name": "stdout",
     "output_type": "stream",
     "text": [
      "Fitting 3 folds for each of 56 candidates, totalling 168 fits\n",
      "Best Score (accuracy): 0.966667\n",
      "Optimal Hyperparameter Values:  {'C': 50, 'max_iter': 500, 'multi_class': 'multinomial', 'solver': 'newton-cg', 'tol': 0.001}\n",
      "\n",
      "\n",
      "CPU times: user 157 ms, sys: 8.85 ms, total: 166 ms\n",
      "Wall time: 436 ms\n"
     ]
    },
    {
     "name": "stderr",
     "output_type": "stream",
     "text": [
      "[Parallel(n_jobs=-1)]: Done 168 out of 168 | elapsed:    0.4s finished\n"
     ]
    }
   ],
   "source": [
    "%%time\n",
    "\n",
    "param_grid_sm = {'solver': ['newton-cg', 'lbfgs'], \n",
    "              'multi_class' : ['multinomial'],\n",
    "              'tol': [1e-3, 1e-4], 'max_iter':[500, 1000],'C': [0.1, 0.5, 1, 10, 15, 50, 100]}\n",
    "\n",
    "lg_reg_sm = LogisticRegression()\n",
    "\n",
    "lg_reg_sm_cv = GridSearchCV(lg_reg_sm, param_grid_sm, scoring='f1_micro', cv=3, verbose=1, n_jobs=-1)\n",
    "lg_reg_sm_cv.fit(X_train, y_train)\n",
    "\n",
    "params_optimal_sm = lg_reg_sm_cv.best_params_\n",
    "\n",
    "print(\"Best Score (accuracy): %f\" % lg_reg_sm_cv.best_score_)\n",
    "print(\"Optimal Hyperparameter Values: \", params_optimal_sm)\n",
    "print(\"\\n\")"
   ]
  },
  {
   "cell_type": "markdown",
   "metadata": {},
   "source": [
    "## Train the Optimal Softmax Logistic Regression Classifier"
   ]
  },
  {
   "cell_type": "code",
   "execution_count": 10,
   "metadata": {},
   "outputs": [
    {
     "data": {
      "text/plain": [
       "LogisticRegression(C=50, class_weight=None, dual=False, fit_intercept=True,\n",
       "                   intercept_scaling=1, l1_ratio=None, max_iter=500,\n",
       "                   multi_class='multinomial', n_jobs=None, penalty='l2',\n",
       "                   random_state=None, solver='newton-cg', tol=0.001, verbose=0,\n",
       "                   warm_start=False)"
      ]
     },
     "execution_count": 10,
     "metadata": {},
     "output_type": "execute_result"
    }
   ],
   "source": [
    "softmax_reg = LogisticRegression(**params_optimal_sm)\n",
    "\n",
    "softmax_reg.fit(X_train, y_train)"
   ]
  },
  {
   "cell_type": "markdown",
   "metadata": {},
   "source": [
    "## Evaluate the Optimal Classifier on Test Data"
   ]
  },
  {
   "cell_type": "code",
   "execution_count": 11,
   "metadata": {},
   "outputs": [
    {
     "name": "stdout",
     "output_type": "stream",
     "text": [
      "No. of Iterations: [10]\n",
      "\n",
      "Test Accuracy:  0.9666666666666667\n",
      "\n",
      "Test Confusion Matrix:\n",
      "[[14  0  0]\n",
      " [ 0  7  1]\n",
      " [ 0  0  8]]\n",
      "\n",
      "Classification Report:\n",
      "              precision    recall  f1-score   support\n",
      "\n",
      "           0       1.00      1.00      1.00        14\n",
      "           1       1.00      0.88      0.93         8\n",
      "           2       0.89      1.00      0.94         8\n",
      "\n",
      "    accuracy                           0.97        30\n",
      "   macro avg       0.96      0.96      0.96        30\n",
      "weighted avg       0.97      0.97      0.97        30\n",
      "\n"
     ]
    }
   ],
   "source": [
    "print(\"No. of Iterations:\", softmax_reg.n_iter_ )\n",
    "\n",
    "y_test_predicted = softmax_reg.predict(X_test)\n",
    "#print(y_test_predict)\n",
    "\n",
    "accuracy_score_test = np.mean(y_test_predicted == y_test)\n",
    "print(\"\\nTest Accuracy: \", accuracy_score_test)\n",
    "\n",
    "\n",
    "print(\"\\nTest Confusion Matrix:\")\n",
    "print(confusion_matrix(y_test, y_test_predicted))\n",
    "\n",
    "\n",
    "print(\"\\nClassification Report:\")\n",
    "print(classification_report(y_test, y_test_predicted))"
   ]
  },
  {
   "cell_type": "markdown",
   "metadata": {},
   "source": [
    "# Decision Bounday \n",
    "\n",
    "Logistic Regression is a **linear classifier**. \n",
    "\n",
    "To better understand how Logistic Regression creates linear decision boundary, we need to **visualize** it.\n",
    "\n",
    "We provide two techniques for plotting the class decision boundary for a multi-class classification problem.\n",
    "\n",
    "1. Using Various Thresholds for a Class Probability \n",
    "2. Using Class Prediction \n",
    "\n",
    "The 1st technique is useful for understanding the decision boundaries at various thresholds. It reveals the scope of the solution space. We use the function \"decision_boundary_various_thresholds\" to plot this decision boundary\n",
    "\n",
    "The 2nd technique is simple and easy to extend for non-linear dataset. We will use it more often. We use the function \"decision_boundary_class_colored\" to plot this decision boundary. Note that for multi-class classification, the \"plotDistanceFromHyperplane\" attribute should be set to False.\n",
    "\n",
    "A detail discussion on these two functions are provided in the \"Logistic Regression-1-Binary Classification\" notebook."
   ]
  },
  {
   "cell_type": "code",
   "execution_count": 12,
   "metadata": {},
   "outputs": [],
   "source": [
    "def decision_boundary_various_thresholds(clf, X):\n",
    "    \n",
    "    # Get the min and max value of feature x1\n",
    "    x1min, x1max = X[:,0].min() - 1, X[:, 0].max() + 1\n",
    "    \n",
    "    # Get the min and max value of feature x2\n",
    "    x2min, x2max = X[:,1].min() - 1, X[:, 1].max() + 1\n",
    "    \n",
    "    # Create the mesh grid\n",
    "    x1s = np.linspace(x1min, x1max, 100)\n",
    "    x2s = np.linspace(x2min, x2max, 100)\n",
    "    x1, x2 = np.meshgrid(x1s, x2s)\n",
    "\n",
    "    # Create pairs of new points from the grid\n",
    "    X_new = np.c_[x1.ravel(), x2.ravel()]\n",
    "\n",
    "    # Compute the estimates for 2 classes for all new points\n",
    "    y_proba = clf.predict_proba(X_new)\n",
    "\n",
    "    \n",
    "    # We only use the estimate for the class Iris-Virginica\n",
    "    zz = y_proba[:, 1].reshape(x1.shape)\n",
    "\n",
    "    # Generate the contour plot for the estimates of class 1\n",
    "    contour = plt.contour(x1, x2, zz, cmap=plt.cm.brg)\n",
    "\n",
    "    plt.clabel(contour, inline=1, fontsize=12)\n",
    "    \n",
    "    \n",
    "def decision_boundary_class_colored(clf, X, plotDistanceFromHyperplane=False):\n",
    "    \n",
    "    # Get the min and max value of feature x1\n",
    "    x1min, x1max = X[:,0].min() - 1, X[:, 0].max() + 1\n",
    "    \n",
    "    # Get the min and max value of feature x2\n",
    "    x2min, x2max = X[:,1].min() - 1, X[:, 1].max() + 1\n",
    "    \n",
    "    # Create the mesh grid\n",
    "    x1s = np.linspace(x1min, x1max, 100)\n",
    "    x2s = np.linspace(x2min, x2max, 100)\n",
    "    x1, x2 = np.meshgrid(x1s, x2s)\n",
    "    \n",
    "    \n",
    "    # Create pairs of new points from the grid\n",
    "    X_new = np.c_[x1.ravel(), x2.ravel()]\n",
    "    \n",
    "    \n",
    "    # Compute the class predictions for all new points\n",
    "    y_pred = clf.predict(X_new).reshape(x1.shape)\n",
    "    \n",
    "    \n",
    "    # Generate the contourf plot for the predictions\n",
    "    #plt.contourf(x1, x2, y_pred, cmap=plt.cm.bwr, alpha=0.2)\n",
    "    \n",
    "    plt.contourf(x1, x2, y_pred, cmap=plt.cm.summer, alpha=0.9)\n",
    "    \n",
    "        \n",
    "    if(plotDistanceFromHyperplane == True):\n",
    "    \n",
    "        # Compute the signed distance of a sample to the hyperplane for all new points\n",
    "        y_decision = clf.decision_function(X_new).reshape(x1.shape)\n",
    "\n",
    "        # Generate the contourf plot for the distance of all points from the hyperplane\n",
    "        plt.contourf(x1, x2, y_decision, cmap=plt.cm.bwr, alpha=0.2)    "
   ]
  },
  {
   "cell_type": "markdown",
   "metadata": {},
   "source": [
    "## Softmax Regression: Decision Boundary for Training Data"
   ]
  },
  {
   "cell_type": "code",
   "execution_count": 13,
   "metadata": {},
   "outputs": [
    {
     "data": {
      "image/png": "[encoded data removed]",
      "text/plain": [
       "<Figure size 864x432 with 1 Axes>"
      ]
     },
     "metadata": {},
     "output_type": "display_data"
    }
   ],
   "source": [
    "plt.figure(figsize=(12, 6))\n",
    "\n",
    "decision_boundary_class_colored(softmax_reg, X_train, plotDistanceFromHyperplane=False)\n",
    "\n",
    "\n",
    "plt.plot(X_train[y_train==2, 0], X_train[y_train==2, 1], \"g^\", label=\"Iris-Virginica\")\n",
    "plt.plot(X_train[y_train==1, 0], X_train[y_train==1, 1], \"bs\", label=\"Iris-Versicolor\")\n",
    "plt.plot(X_train[y_train==0, 0], X_train[y_train==0, 1], \"yo\", label=\"Iris-Setosa\")\n",
    "\n",
    "\n",
    "plt.xlabel(\"Petal length\", fontsize=14)\n",
    "plt.ylabel(\"Petal width\", fontsize=14)\n",
    "plt.legend(loc=\"upper left\", fontsize=14)\n",
    "plt.title(\"Softmax Regression Decision Boundary\", fontsize=16)\n",
    "plt.xticks(())\n",
    "plt.yticks(())\n",
    "plt.show()"
   ]
  },
  {
   "cell_type": "markdown",
   "metadata": {},
   "source": [
    "## Observation \n",
    "\n",
    "The above figure shows the resulting decision boundaries, represented by the background colors. \n",
    "\n",
    "    Notice that the decision boundaries between any two classes are linear. \n",
    "\n",
    "The figure also shows the probabilities for the Iris-Versicolor class, represented by the curved lines (e.g., the line labeled with 0.450 represents the 45% probability boundary). \n",
    "\n",
    "Notice that the model can predict a class that has an estimated probability below 50%. For example, at the point where all decision boundaries meet, all classes have an equal estimated probability of 33%."
   ]
  },
  {
   "cell_type": "markdown",
   "metadata": {},
   "source": [
    "## OvA Regression: Decision Boundary for Training Data"
   ]
  },
  {
   "cell_type": "code",
   "execution_count": 14,
   "metadata": {},
   "outputs": [
    {
     "data": {
      "image/png": "[encoded data removed]",
      "text/plain": [
       "<Figure size 864x360 with 1 Axes>"
      ]
     },
     "metadata": {},
     "output_type": "display_data"
    }
   ],
   "source": [
    "plt.figure(figsize=(12, 5))\n",
    "\n",
    "decision_boundary_class_colored(lg_reg_clf, X_train, plotDistanceFromHyperplane=False)\n",
    "\n",
    "decision_boundary_various_thresholds(lg_reg_clf, X_train)\n",
    "\n",
    "\n",
    "plt.plot(X_train[y_train==2, 0], X_train[y_train==2, 1], \"g^\", label=\"Iris-Virginica\")\n",
    "plt.plot(X_train[y_train==1, 0], X_train[y_train==1, 1], \"bs\", label=\"Iris-Versicolor\")\n",
    "plt.plot(X_train[y_train==0, 0], X_train[y_train==0, 1], \"yo\", label=\"Iris-Setosa\")\n",
    "\n",
    "plt.xlabel(\"Petal length\", fontsize=14)\n",
    "plt.ylabel(\"Petal width\", fontsize=14)\n",
    "plt.legend(loc=\"upper left\", fontsize=14)\n",
    "plt.title(\"OvA Regression Decision Boundary\", fontsize=16)\n",
    "plt.xticks([])\n",
    "plt.yticks([])\n",
    "plt.show()"
   ]
  }
 ],
 "metadata": {
  "anaconda-cloud": {},
  "kernelspec": {
   "display_name": "Python 3",
   "language": "python",
   "name": "python3"
  },
  "language_info": {
   "codemirror_mode": {
    "name": "ipython",
    "version": 3
   },
   "file_extension": ".py",
   "mimetype": "text/x-python",
   "name": "python",
   "nbconvert_exporter": "python",
   "pygments_lexer": "ipython3",
   "version": "3.7.3"
  }
 },
 "nbformat": 4,
 "nbformat_minor": 1
}
