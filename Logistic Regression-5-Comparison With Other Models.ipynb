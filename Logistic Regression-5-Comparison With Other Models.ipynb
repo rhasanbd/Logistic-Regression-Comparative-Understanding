{
 "cells": [
  {
   "cell_type": "markdown",
   "metadata": {},
   "source": [
    "# Logistic Regression - Comparison With Other Models\n",
    "\n",
    "\n",
    "In this notebook, we compare the Logistic Regression classifier model with two other classifier models: K-nearest Neighbors & Naive Bayes classifier.\n",
    "\n",
    "In particular we will investigate the following three learning models for classification.\n",
    "\n",
    "- Instance or Memory Based Learning (K-Nearest Neighbors)\n",
    "- Model Based Learning\n",
    "      -- Generative Approach (Naive Bayes classifier)\n",
    "      -- Discrinimative Approach (Logistic Regression)\n",
    "\n",
    "\n",
    "For this study we will use Scikit-Learn's LogisticRegression object that uses the Gradient Descent algorithm. Since our dataset is small, Gradient Descent based Logistic Regression will not require longer training time. However, for larger dataset, we should use the Stochastic Gradient Descent implemetation of Logistic Regression."
   ]
  },
  {
   "cell_type": "markdown",
   "metadata": {},
   "source": [
    "# Dataset\n",
    "\n",
    "\n",
    "We will use the Cleveland Heart Disease dataset taken from the UCI repository. The goal is to classify whether a person is suffering from a heart disease or not. In other words, it's a binary classification prob;em.\n",
    "\n",
    "#### Data Source:\n",
    "https://www.kaggle.com/ronitf/heart-disease-uci#heart.csv\n",
    "https://archive.ics.uci.edu/ml/datasets/Heart+Disease\n",
    "\n",
    "\n",
    "\n",
    "The dataset consists of 303 individuals data. It contains 76 features, but all published experiments refer to using a subset of 14 of them.\n",
    "\n",
    "\n",
    "The 14 features (columns) are described below. Note that the last column is target (binary).\n",
    "\n",
    "\n",
    "1. Age : displays the age of the individual.\n",
    "\n",
    "2. Sex : displays the gender of the individual using the following format:\n",
    "\n",
    "        1 = male\n",
    "        0 = female\n",
    "3. Chest-pain type : displays the type of chest-pain experienced by the individual using the following format \n",
    "\n",
    "        1 = typical angina\n",
    "        2 = atypical angina\n",
    "        3 = non — anginal pain\n",
    "        4 = asymptotic\n",
    "\n",
    "4. Resting Blood Pressure : displays the resting blood pressure value of an individual in mmHg (unit)\n",
    "\n",
    "5. Serum Cholestrol : displays the serum cholestrol in mg/dl (unit)\n",
    "\n",
    "6. Fasting Blood Sugar : compares the fasting blood sugar value of an individual with 120mg/dl.\n",
    "\n",
    "        If fasting blood sugar > 120mg/dl then : 1 (true)\n",
    "        else : 0 (false)\n",
    "\n",
    "7. Resting ECG : displays resting electrocardiographic results\n",
    "\n",
    "        0 = normal\n",
    "        1 = having ST-T wave abnormality\n",
    "        2 = left ventricular hyperthrophy\n",
    "\n",
    "8. Max heart rate achieved : displays the max heart rate achieved by an individual.\n",
    "\n",
    "9. Exercise induced angina :\n",
    "\n",
    "        1 = yes\n",
    "        0 = no\n",
    "\n",
    "10. ST depression induced by exercise relative to rest : displays the value which is integer or float.\n",
    "\n",
    "11. Peak exercise ST segment :\n",
    " \n",
    "        1 = upsloping\n",
    "        2 = flat\n",
    "        3 = downsloping\n",
    "\n",
    "12. Number of major vessels (0–3) colored by flourosopy : displays the value as integer or float.\n",
    "\n",
    "13. Thal : displays the thalassemia :\n",
    "\n",
    "        3 = normal\n",
    "        6 = fixed defect\n",
    "        7 = reversible defect\n",
    "\n",
    "14. Target : Diagnosis of heart disease - Displays whether the individual is suffering from heart disease or not:\n",
    "    \n",
    "        0 = absence\n",
    "        1, 2, 3, 4 = present."
   ]
  },
  {
   "cell_type": "code",
   "execution_count": 1,
   "metadata": {},
   "outputs": [],
   "source": [
    "import warnings\n",
    "import numpy as np\n",
    "import pandas as pd\n",
    "import matplotlib.pyplot as plt\n",
    "\n",
    "from sklearn.preprocessing import StandardScaler\n",
    "from sklearn.linear_model import LogisticRegression\n",
    "from sklearn.neighbors import KNeighborsClassifier\n",
    "from sklearn.naive_bayes import GaussianNB\n",
    "from sklearn.metrics import confusion_matrix, precision_score, recall_score, f1_score, classification_report\n",
    "from sklearn.model_selection import train_test_split, GridSearchCV, cross_val_score"
   ]
  },
  {
   "cell_type": "markdown",
   "metadata": {},
   "source": [
    "## Load Data\n",
    "\n",
    "Load the data using Pandas. \n",
    "\n",
    "Pandas' read_csv() method will load the data as a Pandas DataFrame object."
   ]
  },
  {
   "cell_type": "code",
   "execution_count": 2,
   "metadata": {},
   "outputs": [],
   "source": [
    "df = pd.read_csv('/Users/hasan/datasets/HeartDiseaseCleveland.csv')"
   ]
  },
  {
   "cell_type": "markdown",
   "metadata": {},
   "source": [
    "## Quick Check of the Data\n",
    "\n",
    "Let’s take a look at the top five rows using the DataFrame’s head() method."
   ]
  },
  {
   "cell_type": "code",
   "execution_count": 3,
   "metadata": {},
   "outputs": [
    {
     "data": {
      "text/html": [
       "<div>\n",
       "<style scoped>\n",
       "    .dataframe tbody tr th:only-of-type {\n",
       "        vertical-align: middle;\n",
       "    }\n",
       "\n",
       "    .dataframe tbody tr th {\n",
       "        vertical-align: top;\n",
       "    }\n",
       "\n",
       "    .dataframe thead th {\n",
       "        text-align: right;\n",
       "    }\n",
       "</style>\n",
       "<table border=\"1\" class=\"dataframe\">\n",
       "  <thead>\n",
       "    <tr style=\"text-align: right;\">\n",
       "      <th></th>\n",
       "      <th>age</th>\n",
       "      <th>sex</th>\n",
       "      <th>cp</th>\n",
       "      <th>trestbps</th>\n",
       "      <th>chol</th>\n",
       "      <th>fbs</th>\n",
       "      <th>restecg</th>\n",
       "      <th>thalach</th>\n",
       "      <th>exang</th>\n",
       "      <th>oldpeak</th>\n",
       "      <th>slope</th>\n",
       "      <th>ca</th>\n",
       "      <th>thal</th>\n",
       "      <th>target</th>\n",
       "    </tr>\n",
       "  </thead>\n",
       "  <tbody>\n",
       "    <tr>\n",
       "      <th>0</th>\n",
       "      <td>63</td>\n",
       "      <td>1</td>\n",
       "      <td>3</td>\n",
       "      <td>145</td>\n",
       "      <td>233</td>\n",
       "      <td>1</td>\n",
       "      <td>0</td>\n",
       "      <td>150</td>\n",
       "      <td>0</td>\n",
       "      <td>2.3</td>\n",
       "      <td>0</td>\n",
       "      <td>0</td>\n",
       "      <td>1</td>\n",
       "      <td>1</td>\n",
       "    </tr>\n",
       "    <tr>\n",
       "      <th>1</th>\n",
       "      <td>37</td>\n",
       "      <td>1</td>\n",
       "      <td>2</td>\n",
       "      <td>130</td>\n",
       "      <td>250</td>\n",
       "      <td>0</td>\n",
       "      <td>1</td>\n",
       "      <td>187</td>\n",
       "      <td>0</td>\n",
       "      <td>3.5</td>\n",
       "      <td>0</td>\n",
       "      <td>0</td>\n",
       "      <td>2</td>\n",
       "      <td>1</td>\n",
       "    </tr>\n",
       "    <tr>\n",
       "      <th>2</th>\n",
       "      <td>41</td>\n",
       "      <td>0</td>\n",
       "      <td>1</td>\n",
       "      <td>130</td>\n",
       "      <td>204</td>\n",
       "      <td>0</td>\n",
       "      <td>0</td>\n",
       "      <td>172</td>\n",
       "      <td>0</td>\n",
       "      <td>1.4</td>\n",
       "      <td>2</td>\n",
       "      <td>0</td>\n",
       "      <td>2</td>\n",
       "      <td>1</td>\n",
       "    </tr>\n",
       "    <tr>\n",
       "      <th>3</th>\n",
       "      <td>56</td>\n",
       "      <td>1</td>\n",
       "      <td>1</td>\n",
       "      <td>120</td>\n",
       "      <td>236</td>\n",
       "      <td>0</td>\n",
       "      <td>1</td>\n",
       "      <td>178</td>\n",
       "      <td>0</td>\n",
       "      <td>0.8</td>\n",
       "      <td>2</td>\n",
       "      <td>0</td>\n",
       "      <td>2</td>\n",
       "      <td>1</td>\n",
       "    </tr>\n",
       "    <tr>\n",
       "      <th>4</th>\n",
       "      <td>57</td>\n",
       "      <td>0</td>\n",
       "      <td>0</td>\n",
       "      <td>120</td>\n",
       "      <td>354</td>\n",
       "      <td>0</td>\n",
       "      <td>1</td>\n",
       "      <td>163</td>\n",
       "      <td>1</td>\n",
       "      <td>0.6</td>\n",
       "      <td>2</td>\n",
       "      <td>0</td>\n",
       "      <td>2</td>\n",
       "      <td>1</td>\n",
       "    </tr>\n",
       "  </tbody>\n",
       "</table>\n",
       "</div>"
      ],
      "text/plain": [
       "   age  sex  cp  trestbps  chol  fbs  restecg  thalach  exang  oldpeak  slope  \\\n",
       "0   63    1   3       145   233    1        0      150      0      2.3      0   \n",
       "1   37    1   2       130   250    0        1      187      0      3.5      0   \n",
       "2   41    0   1       130   204    0        0      172      0      1.4      2   \n",
       "3   56    1   1       120   236    0        1      178      0      0.8      2   \n",
       "4   57    0   0       120   354    0        1      163      1      0.6      2   \n",
       "\n",
       "   ca  thal  target  \n",
       "0   0     1       1  \n",
       "1   0     2       1  \n",
       "2   0     2       1  \n",
       "3   0     2       1  \n",
       "4   0     2       1  "
      ]
     },
     "execution_count": 3,
     "metadata": {},
     "output_type": "execute_result"
    }
   ],
   "source": [
    "df.head()"
   ]
  },
  {
   "cell_type": "markdown",
   "metadata": {},
   "source": [
    "## Description of the Data\n",
    "\n",
    "DataFrame’s info() method is useful to get a quick description of the data, in particular the total number of rows, and each attribute’s type and number of non-null values.\n"
   ]
  },
  {
   "cell_type": "code",
   "execution_count": 4,
   "metadata": {},
   "outputs": [
    {
     "name": "stdout",
     "output_type": "stream",
     "text": [
      "<class 'pandas.core.frame.DataFrame'>\n",
      "RangeIndex: 303 entries, 0 to 302\n",
      "Data columns (total 14 columns):\n",
      "age         303 non-null int64\n",
      "sex         303 non-null int64\n",
      "cp          303 non-null int64\n",
      "trestbps    303 non-null int64\n",
      "chol        303 non-null int64\n",
      "fbs         303 non-null int64\n",
      "restecg     303 non-null int64\n",
      "thalach     303 non-null int64\n",
      "exang       303 non-null int64\n",
      "oldpeak     303 non-null float64\n",
      "slope       303 non-null int64\n",
      "ca          303 non-null int64\n",
      "thal        303 non-null int64\n",
      "target      303 non-null int64\n",
      "dtypes: float64(1), int64(13)\n",
      "memory usage: 33.2 KB\n"
     ]
    }
   ],
   "source": [
    "df.info()"
   ]
  },
  {
   "cell_type": "markdown",
   "metadata": {},
   "source": [
    "## Dimension of the Data"
   ]
  },
  {
   "cell_type": "code",
   "execution_count": 5,
   "metadata": {},
   "outputs": [
    {
     "name": "stdout",
     "output_type": "stream",
     "text": [
      "Dimension of the data:  (303, 14)\n",
      "No. of Rows: 303\n",
      "No. of Columns: 14\n"
     ]
    }
   ],
   "source": [
    "print(\"Dimension of the data: \", df.shape)\n",
    "\n",
    "no_of_rows = df.shape[0]\n",
    "no_of_columns = df.shape[1]\n",
    "\n",
    "print(\"No. of Rows: %d\" % no_of_rows)\n",
    "print(\"No. of Columns: %d\" % no_of_columns)"
   ]
  },
  {
   "cell_type": "markdown",
   "metadata": {},
   "source": [
    "## Visualization of the Data"
   ]
  },
  {
   "cell_type": "code",
   "execution_count": 6,
   "metadata": {},
   "outputs": [
    {
     "data": {
      "text/plain": [
       "array([[<matplotlib.axes._subplots.AxesSubplot object at 0x11afcf198>,\n",
       "        <matplotlib.axes._subplots.AxesSubplot object at 0x1a1e8f63c8>,\n",
       "        <matplotlib.axes._subplots.AxesSubplot object at 0x1a1e928978>,\n",
       "        <matplotlib.axes._subplots.AxesSubplot object at 0x1a1e95af28>],\n",
       "       [<matplotlib.axes._subplots.AxesSubplot object at 0x1a1e997438>,\n",
       "        <matplotlib.axes._subplots.AxesSubplot object at 0x1a1e9c79e8>,\n",
       "        <matplotlib.axes._subplots.AxesSubplot object at 0x1a1e9fef98>,\n",
       "        <matplotlib.axes._subplots.AxesSubplot object at 0x1a1ea375c0>],\n",
       "       [<matplotlib.axes._subplots.AxesSubplot object at 0x1a1ea375f8>,\n",
       "        <matplotlib.axes._subplots.AxesSubplot object at 0x1a1eaa6128>,\n",
       "        <matplotlib.axes._subplots.AxesSubplot object at 0x1a1ead76d8>,\n",
       "        <matplotlib.axes._subplots.AxesSubplot object at 0x1a1eb06c88>],\n",
       "       [<matplotlib.axes._subplots.AxesSubplot object at 0x1a1eb47278>,\n",
       "        <matplotlib.axes._subplots.AxesSubplot object at 0x1a1eb76828>,\n",
       "        <matplotlib.axes._subplots.AxesSubplot object at 0x1a1eba6d68>,\n",
       "        <matplotlib.axes._subplots.AxesSubplot object at 0x1a1ebe7358>]],\n",
       "      dtype=object)"
      ]
     },
     "execution_count": 6,
     "metadata": {},
     "output_type": "execute_result"
    },
    {
     "data": {
      "image/png": "[encoded data removed]",
      "text/plain": [
       "<Figure size 1440x1080 with 16 Axes>"
      ]
     },
     "metadata": {
      "needs_background": "light"
     },
     "output_type": "display_data"
    }
   ],
   "source": [
    "df.hist(bins=50, figsize=(20,15)) "
   ]
  },
  {
   "cell_type": "markdown",
   "metadata": {},
   "source": [
    "## Create a Separate Feature Set (Data Matrix X) and Target (1D Array y)\n",
    "\n",
    "Create a data matrix (X) that contains all features and a 1D target array (y) containing the target.\n",
    "\n",
    "First, we create separate data frame objects for X and y. Then, we convert the data frame objects into arrays."
   ]
  },
  {
   "cell_type": "code",
   "execution_count": 7,
   "metadata": {},
   "outputs": [
    {
     "name": "stdout",
     "output_type": "stream",
     "text": [
      "Data Matrix (X) Shape:  (303, 13)\n",
      "Label Array (y) Shape:  (303,)\n",
      "\n",
      "Data Matrix (X) Type:  float64\n",
      "Label Array (y) Type:  int64\n"
     ]
    }
   ],
   "source": [
    "# Create separate data frame objects for X (features) and y (target)\n",
    "y = df['target'] \n",
    "X = df.drop(columns='target')  \n",
    "\n",
    "\n",
    "X = np.asarray(X) # Data Matrix containing all features excluding the target\n",
    "y = np.asarray(y) # 1D target array\n",
    "\n",
    "\n",
    "print(\"Data Matrix (X) Shape: \", X.shape)\n",
    "print(\"Label Array (y) Shape: \", y.shape)\n",
    "\n",
    "print(\"\\nData Matrix (X) Type: \", X.dtype)\n",
    "print(\"Label Array (y) Type: \", y.dtype)"
   ]
  },
  {
   "cell_type": "markdown",
   "metadata": {},
   "source": [
    "## Split Data Into Training and Test Sets"
   ]
  },
  {
   "cell_type": "code",
   "execution_count": 8,
   "metadata": {},
   "outputs": [
    {
     "name": "stdout",
     "output_type": "stream",
     "text": [
      "(242, 13)\n",
      "(61, 13)\n"
     ]
    }
   ],
   "source": [
    "#X_train, X_test, y_train, y_test = train_test_split(X, y, test_size=0.20, random_state=42)\n",
    "X_train, X_test, y_train, y_test = train_test_split(X, y, test_size=0.20)\n",
    "\n",
    "print(X_train.shape)\n",
    "print(X_test.shape)"
   ]
  },
  {
   "cell_type": "markdown",
   "metadata": {},
   "source": [
    "## Scale the Data Using Standardization Technique\n",
    "\n",
    "Note that the K-Nearest Neighbors (KNN) and Gradient Descent based optimization algorithms (such as Logistic Regression) are influenced by the scale of the data. \n",
    "\n",
    "Thus, we must standardize the data before applying these learning algorithm."
   ]
  },
  {
   "cell_type": "code",
   "execution_count": 9,
   "metadata": {},
   "outputs": [],
   "source": [
    "scaler = StandardScaler()\n",
    "\n",
    "# Fit on training set only.\n",
    "scaler.fit(X_train)\n",
    "\n",
    "# Apply transform to both the training set and the test set.\n",
    "X_train = scaler.transform(X_train)\n",
    "X_test = scaler.transform(X_test)"
   ]
  },
  {
   "cell_type": "markdown",
   "metadata": {},
   "source": [
    "# 1. Logistic Regression\n",
    "\n",
    "\n",
    "\n",
    "## Model Selection for Logistic Regression: Hyperparameter Tuning\n",
    "\n",
    "First, we need to find the optimal hyperparameters via Gridsearch."
   ]
  },
  {
   "cell_type": "code",
   "execution_count": 10,
   "metadata": {},
   "outputs": [
    {
     "name": "stdout",
     "output_type": "stream",
     "text": [
      "Fitting 3 folds for each of 144 candidates, totalling 432 fits\n"
     ]
    },
    {
     "name": "stderr",
     "output_type": "stream",
     "text": [
      "[Parallel(n_jobs=-1)]: Using backend LokyBackend with 8 concurrent workers.\n",
      "[Parallel(n_jobs=-1)]: Done  34 tasks      | elapsed:    1.2s\n"
     ]
    },
    {
     "name": "stdout",
     "output_type": "stream",
     "text": [
      "Best Score (accuracy): 0.848743\n",
      "Optimal Hyperparameter Values:  {'C': 0.01, 'max_iter': 100, 'solver': 'newton-cg', 'tol': 0.001}\n",
      "\n",
      "\n",
      "CPU times: user 446 ms, sys: 102 ms, total: 548 ms\n",
      "Wall time: 1.77 s\n"
     ]
    },
    {
     "name": "stderr",
     "output_type": "stream",
     "text": [
      "[Parallel(n_jobs=-1)]: Done 432 out of 432 | elapsed:    1.7s finished\n"
     ]
    }
   ],
   "source": [
    "%%time\n",
    "\n",
    "warnings.filterwarnings('ignore')\n",
    "\n",
    "param_grid_logreg = {'solver': ['newton-cg', 'lbfgs', 'sag', 'saga'], \n",
    "                 'tol': [1e-3, 1e-4, 1e-5], 'max_iter':[100, 500, 1000],\n",
    "                 'C': [0.001, 0.01, 0.1, 0.5]}\n",
    "\n",
    "lg_reg = LogisticRegression()\n",
    "\n",
    "lg_reg_cv = GridSearchCV(lg_reg, param_grid_logreg, scoring='f1', cv=3, verbose=1, n_jobs=-1)\n",
    "lg_reg_cv.fit(X_train, y_train)\n",
    "\n",
    "params_optimal_logreg = lg_reg_cv.best_params_\n",
    "\n",
    "print(\"Best Score (accuracy): %f\" % lg_reg_cv.best_score_)\n",
    "print(\"Optimal Hyperparameter Values: \", params_optimal_logreg)\n",
    "print(\"\\n\")"
   ]
  },
  {
   "cell_type": "markdown",
   "metadata": {},
   "source": [
    "## 1. Train the Optimal Logistic Regression Classifier"
   ]
  },
  {
   "cell_type": "code",
   "execution_count": 11,
   "metadata": {},
   "outputs": [
    {
     "data": {
      "text/plain": [
       "LogisticRegression(C=0.01, class_weight=None, dual=False, fit_intercept=True,\n",
       "                   intercept_scaling=1, l1_ratio=None, max_iter=100,\n",
       "                   multi_class='auto', n_jobs=None, penalty='l2',\n",
       "                   random_state=None, solver='newton-cg', tol=0.001, verbose=0,\n",
       "                   warm_start=False)"
      ]
     },
     "execution_count": 11,
     "metadata": {},
     "output_type": "execute_result"
    }
   ],
   "source": [
    "log_reg = LogisticRegression(**params_optimal_logreg)\n",
    "\n",
    "log_reg.fit(X_train, y_train)"
   ]
  },
  {
   "cell_type": "markdown",
   "metadata": {},
   "source": [
    "## 1. Evaluate the Optimal Logistic Regression Classifier on Test Data"
   ]
  },
  {
   "cell_type": "code",
   "execution_count": 12,
   "metadata": {},
   "outputs": [
    {
     "name": "stdout",
     "output_type": "stream",
     "text": [
      "No. of Iterations: [7]\n",
      "\n",
      "Test Accuracy:  0.8032786885245902\n",
      "\n",
      "Test Confusion Matrix:\n",
      "[[19 10]\n",
      " [ 2 30]]\n",
      "\n",
      "Classification Report:\n",
      "              precision    recall  f1-score   support\n",
      "\n",
      "           0       0.90      0.66      0.76        29\n",
      "           1       0.75      0.94      0.83        32\n",
      "\n",
      "    accuracy                           0.80        61\n",
      "   macro avg       0.83      0.80      0.80        61\n",
      "weighted avg       0.82      0.80      0.80        61\n",
      "\n"
     ]
    }
   ],
   "source": [
    "print(\"No. of Iterations:\", log_reg.n_iter_ )\n",
    "\n",
    "y_test_predicted = log_reg.predict(X_test)\n",
    "#print(y_test_predict)\n",
    "\n",
    "accuracy_score_test_logreg = np.mean(y_test_predicted == y_test)\n",
    "print(\"\\nTest Accuracy: \", accuracy_score_test_logreg)\n",
    "\n",
    "\n",
    "print(\"\\nTest Confusion Matrix:\")\n",
    "print(confusion_matrix(y_test, y_test_predicted))\n",
    "\n",
    "\n",
    "print(\"\\nClassification Report:\")\n",
    "print(classification_report(y_test, y_test_predicted))"
   ]
  },
  {
   "cell_type": "markdown",
   "metadata": {},
   "source": [
    "# 2. K-Nearest Neighbors\n",
    "\n",
    "## Model Selection for KNN: Hyperparameter Tuning\n",
    "\n",
    "First, we need to find the optimal hyperparameters via Gridsearch."
   ]
  },
  {
   "cell_type": "code",
   "execution_count": 13,
   "metadata": {},
   "outputs": [
    {
     "name": "stderr",
     "output_type": "stream",
     "text": [
      "[Parallel(n_jobs=-1)]: Using backend LokyBackend with 8 concurrent workers.\n"
     ]
    },
    {
     "name": "stdout",
     "output_type": "stream",
     "text": [
      "Fitting 3 folds for each of 266 candidates, totalling 798 fits\n"
     ]
    },
    {
     "name": "stderr",
     "output_type": "stream",
     "text": [
      "[Parallel(n_jobs=-1)]: Done 202 tasks      | elapsed:    0.7s\n"
     ]
    },
    {
     "name": "stdout",
     "output_type": "stream",
     "text": [
      "Best Score: 0.872551\n",
      "Optimal Hyperparameter Values:  {'n_neighbors': 18, 'p': 1, 'weights': 'uniform'}\n",
      "\n",
      "\n",
      "CPU times: user 547 ms, sys: 20.4 ms, total: 567 ms\n",
      "Wall time: 1.51 s\n"
     ]
    },
    {
     "name": "stderr",
     "output_type": "stream",
     "text": [
      "[Parallel(n_jobs=-1)]: Done 798 out of 798 | elapsed:    1.5s finished\n"
     ]
    }
   ],
   "source": [
    "%%time\n",
    "\n",
    "param_grid_knn = {'n_neighbors': np.arange(1, 20), 'p': [1, 2, 10, 50, 100, 500, 1000], \n",
    "                  'weights': [\"uniform\", \"distance\"]}\n",
    "\n",
    "knn = KNeighborsClassifier()\n",
    "\n",
    "knn_cv = GridSearchCV(knn, param_grid_knn, scoring='f1', cv=3, verbose=1, n_jobs=-1)\n",
    "knn_cv.fit(X_train, y_train)\n",
    "\n",
    "params_optimal_knn = knn_cv.best_params_\n",
    "\n",
    "print(\"Best Score: %f\" % knn_cv.best_score_)\n",
    "print(\"Optimal Hyperparameter Values: \", params_optimal_knn)\n",
    "print(\"\\n\")"
   ]
  },
  {
   "cell_type": "markdown",
   "metadata": {},
   "source": [
    "## 2. Train the Optimal KNN Classifier"
   ]
  },
  {
   "cell_type": "code",
   "execution_count": 14,
   "metadata": {},
   "outputs": [
    {
     "name": "stdout",
     "output_type": "stream",
     "text": [
      "CPU times: user 836 µs, sys: 559 µs, total: 1.4 ms\n",
      "Wall time: 840 µs\n"
     ]
    },
    {
     "data": {
      "text/plain": [
       "KNeighborsClassifier(algorithm='auto', leaf_size=30, metric='minkowski',\n",
       "                     metric_params=None, n_jobs=None, n_neighbors=18, p=1,\n",
       "                     weights='uniform')"
      ]
     },
     "execution_count": 14,
     "metadata": {},
     "output_type": "execute_result"
    }
   ],
   "source": [
    "%%time\n",
    "\n",
    "knn_clf = KNeighborsClassifier(**params_optimal_knn)\n",
    "\n",
    "knn_clf.fit(X_train, y_train)"
   ]
  },
  {
   "cell_type": "markdown",
   "metadata": {},
   "source": [
    "## 2. Evaluate the Optimal KNN Classifier on Test Data"
   ]
  },
  {
   "cell_type": "code",
   "execution_count": 15,
   "metadata": {},
   "outputs": [
    {
     "name": "stdout",
     "output_type": "stream",
     "text": [
      "\n",
      "Test Accuracy:  0.8360655737704918\n",
      "\n",
      "Test Confusion Matrix:\n",
      "[[22  7]\n",
      " [ 3 29]]\n",
      "\n",
      "Classification Report:\n",
      "              precision    recall  f1-score   support\n",
      "\n",
      "           0       0.88      0.76      0.81        29\n",
      "           1       0.81      0.91      0.85        32\n",
      "\n",
      "    accuracy                           0.84        61\n",
      "   macro avg       0.84      0.83      0.83        61\n",
      "weighted avg       0.84      0.84      0.83        61\n",
      "\n"
     ]
    }
   ],
   "source": [
    "y_test_predicted = knn_clf.predict(X_test)\n",
    "#print(y_test_predict)\n",
    "\n",
    "accuracy_score_test_knn = np.mean(y_test_predicted == y_test)\n",
    "print(\"\\nTest Accuracy: \", accuracy_score_test_knn)\n",
    "\n",
    "\n",
    "print(\"\\nTest Confusion Matrix:\")\n",
    "print(confusion_matrix(y_test, y_test_predicted))\n",
    "\n",
    "\n",
    "print(\"\\nClassification Report:\")\n",
    "print(classification_report(y_test, y_test_predicted))"
   ]
  },
  {
   "cell_type": "markdown",
   "metadata": {},
   "source": [
    "# 3. Gaussian Naive Bayes Classifier\n",
    "\n",
    "Since the features values are real-numbers, we will use the Gaussian Naive Bayes for classification.\n",
    "\n",
    "\n",
    "\n",
    "## Model Selection for Gaussian NB: Hyperparameter Tuning\n",
    "\n",
    "First, we need to find the optimal hyperparameters via Gridsearch."
   ]
  },
  {
   "cell_type": "code",
   "execution_count": 16,
   "metadata": {},
   "outputs": [
    {
     "name": "stdout",
     "output_type": "stream",
     "text": [
      "Fitting 3 folds for each of 7 candidates, totalling 21 fits\n",
      "Best Score: 0.856938\n",
      "Optimal Hyperparameter Values:  {'var_smoothing': 1.0}\n",
      "\n",
      "\n",
      "CPU times: user 24.3 ms, sys: 3.89 ms, total: 28.2 ms\n",
      "Wall time: 34.7 ms\n"
     ]
    },
    {
     "name": "stderr",
     "output_type": "stream",
     "text": [
      "[Parallel(n_jobs=-1)]: Using backend LokyBackend with 8 concurrent workers.\n",
      "[Parallel(n_jobs=-1)]: Done   6 out of  21 | elapsed:    0.0s remaining:    0.0s\n",
      "[Parallel(n_jobs=-1)]: Done  21 out of  21 | elapsed:    0.0s finished\n"
     ]
    }
   ],
   "source": [
    "%%time\n",
    "\n",
    "param_grid_gnb = {'var_smoothing': [0.00001, 0.0001, 0.001, 0.01, 0.1, 1.0, 2.0]}\n",
    "\n",
    "gaussianNB = GaussianNB()\n",
    "\n",
    "gaussianNB_cv = GridSearchCV(gaussianNB, param_grid_gnb, scoring='f1', cv=3, verbose=1, n_jobs=-1)\n",
    "gaussianNB_cv.fit(X_train, y_train)\n",
    "\n",
    "params_optimal_gnb = gaussianNB_cv.best_params_\n",
    "\n",
    "print(\"Best Score: %f\" % gaussianNB_cv.best_score_)\n",
    "print(\"Optimal Hyperparameter Values: \", params_optimal_gnb)\n",
    "print(\"\\n\")"
   ]
  },
  {
   "cell_type": "markdown",
   "metadata": {},
   "source": [
    "## 3. Train the Optimal Gaussian NB Classifier"
   ]
  },
  {
   "cell_type": "code",
   "execution_count": 17,
   "metadata": {},
   "outputs": [
    {
     "data": {
      "text/plain": [
       "GaussianNB(priors=None, var_smoothing=1.0)"
      ]
     },
     "execution_count": 17,
     "metadata": {},
     "output_type": "execute_result"
    }
   ],
   "source": [
    "gaussianNB_clf = GaussianNB(**params_optimal_gnb)\n",
    "\n",
    "gaussianNB_clf.fit(X_train, y_train)  "
   ]
  },
  {
   "cell_type": "markdown",
   "metadata": {},
   "source": [
    "## 3. Evaluate the Optimal Gaussian NB Classifier on Test Data"
   ]
  },
  {
   "cell_type": "code",
   "execution_count": 18,
   "metadata": {},
   "outputs": [
    {
     "name": "stdout",
     "output_type": "stream",
     "text": [
      "\n",
      "Test Accuracy:  0.819672131147541\n",
      "\n",
      "Text Confusion Matrix:\n",
      "[[20  9]\n",
      " [ 2 30]]\n",
      "\n",
      "Classification Report:\n",
      "              precision    recall  f1-score   support\n",
      "\n",
      "           0       0.91      0.69      0.78        29\n",
      "           1       0.77      0.94      0.85        32\n",
      "\n",
      "    accuracy                           0.82        61\n",
      "   macro avg       0.84      0.81      0.81        61\n",
      "weighted avg       0.84      0.82      0.82        61\n",
      "\n"
     ]
    }
   ],
   "source": [
    "y_test_predicted = gaussianNB_clf.predict(X_test)\n",
    "\n",
    "\n",
    "accuracy_score_test_gnb = np.mean(y_test_predicted == y_test)\n",
    "print(\"\\nTest Accuracy: \", accuracy_score_test_gnb)\n",
    "\n",
    "print(\"\\nText Confusion Matrix:\")\n",
    "print(confusion_matrix(y_test, y_test_predicted))\n",
    "\n",
    "\n",
    "print(\"\\nClassification Report:\")\n",
    "print(classification_report(y_test, y_test_predicted))"
   ]
  },
  {
   "cell_type": "markdown",
   "metadata": {},
   "source": [
    "## Comparion Of Test Accuracy"
   ]
  },
  {
   "cell_type": "code",
   "execution_count": 19,
   "metadata": {},
   "outputs": [
    {
     "name": "stdout",
     "output_type": "stream",
     "text": [
      "Logistic Regression Test Accuracy:  0.8032786885245902\n",
      "KNN Test Accuracy:  0.8360655737704918\n",
      "Gaussian NB Test Accuracy:  0.819672131147541\n"
     ]
    }
   ],
   "source": [
    "print(\"Logistic Regression Test Accuracy: \", accuracy_score_test_logreg)\n",
    "print(\"KNN Test Accuracy: \", accuracy_score_test_knn)\n",
    "print(\"Gaussian NB Test Accuracy: \", accuracy_score_test_gnb)"
   ]
  },
  {
   "cell_type": "markdown",
   "metadata": {},
   "source": [
    "# Comparative Understanding of Three Classifiers\n",
    "\n",
    "### Naive Bayes Classifier\n",
    "- No model selection (hyperparameter tuning) except the Bayesian (smoothing) parameter. Thus the we can immediately start training the model.\n",
    "- Works well even if data is small.\n",
    "- Scale well with high-dimensional features, hence we don't have to worry about the curse of dimensionality.\n",
    "- Since it's not an optimization technique, we don't have to search appropriate learning rate, generate learning curves to detect underfitting/overfitting, regularize via early stopping, etc.\n",
    "- Life is good with the NB classifier!\n",
    "- Can directly perform multi-class classification. We don't need to train multiple binary classifiers.\n",
    "\n",
    "\n",
    "### K-Nearest Neighbors\n",
    "- No learning!\n",
    "- There is no need to compute class probabilities.\n",
    "- Suffers from the curse of dimensionality.\n",
    "- Training time is painfully longer for large dataset and high-dimensional features.\n",
    "- Can directly perform multi-class classification. We don't need to train multiple binary classifiers.\n",
    "\n",
    "\n",
    "### Logistic Regression\n",
    "- It's mainly a binary classifier.\n",
    "- For nonlinear dataset we need to augment the features.\n",
    "- For multi-class classification we need to train multiple binary classifiers when we use the one-versus-all (OvA) strategy. However, the Softmax regression is able to directly perform multi-class classification.\n",
    "- No closed form solution!\n",
    "- Batch Gradient Descent takes longer time on larger dataset.\n",
    "- Training gets slower if the learning rate is not chosen appropriately.\n",
    "- For faster convergence we need to use 2nd order derivative of the cost function in the Gradient Descent algorithm.\n",
    "- Stochastic Gradient Descent requires careful hyperparparameter tuning.\n",
    "\n",
    "\n",
    "\n",
    "## Logistic Regression vs Naive Bayes\n",
    "\n",
    "- Logistic Regression makes no assumption about P(X|Y) in learning, while the Naive Bayes does!\n",
    "- They optimize different functions and obtain different solutions.\n",
    "\n",
    "In general, NB and LR make different assumptions\n",
    "- NB: Features are independent given class: P(X|Y) \n",
    "- LR: Defines the functional form of P(Y|X), but no assumptionon about the features P(X|Y)\n",
    "\n",
    "Convergence rates\n",
    "- GNB (usually) needs less data\n",
    "- LR (usually) gets in the limit\n",
    "\n",
    "With asymptotic assumption, when model correctly\n",
    "- GNB (with class independent variances) and LR produce identical classifiers \n",
    "- LR is less biased, does not assume conditional independence, therefore LR is expected to outperform GNB"
   ]
  }
 ],
 "metadata": {
  "anaconda-cloud": {},
  "kernelspec": {
   "display_name": "Python 3",
   "language": "python",
   "name": "python3"
  },
  "language_info": {
   "codemirror_mode": {
    "name": "ipython",
    "version": 3
   },
   "file_extension": ".py",
   "mimetype": "text/x-python",
   "name": "python",
   "nbconvert_exporter": "python",
   "pygments_lexer": "ipython3",
   "version": "3.7.3"
  }
 },
 "nbformat": 4,
 "nbformat_minor": 1
}
